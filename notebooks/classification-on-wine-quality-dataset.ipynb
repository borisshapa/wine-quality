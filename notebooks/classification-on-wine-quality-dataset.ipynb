{
 "cells": [
  {
   "cell_type": "code",
   "execution_count": 19,
   "metadata": {
    "collapsed": true
   },
   "outputs": [],
   "source": [
    "import csv\n",
    "\n",
    "import catboost\n",
    "import numpy as np\n",
    "import numpy.typing as npt\n",
    "\n",
    "TRAIN_DATA = \"../data/train.csv\"\n",
    "VAL_DATA = \"../data/val.csv\"\n",
    "SEED = 21"
   ]
  },
  {
   "cell_type": "code",
   "execution_count": 16,
   "outputs": [
    {
     "data": {
      "text/plain": "(array([[ 7.5  ,  0.29 ,  0.26 , ...,  3.04 ,  0.49 ,  9.2  ],\n        [ 5.4  ,  0.205,  0.16 , ...,  3.4  ,  0.38 , 10.8  ],\n        [ 7.   ,  0.685,  0.   , ...,  3.34 ,  0.6  ,  9.7  ],\n        ...,\n        [ 5.7  ,  0.28 ,  0.36 , ...,  3.27 ,  0.98 , 11.9  ],\n        [ 6.4  ,  0.15 ,  0.25 , ...,  3.16 ,  0.4  ,  9.9  ],\n        [ 7.2  ,  0.25 ,  0.32 , ...,  3.17 ,  0.48 , 11.1  ]],\n       dtype=float32),\n array([4, 6, 5, ..., 7, 6, 6], dtype=int32))"
     },
     "execution_count": 16,
     "metadata": {},
     "output_type": "execute_result"
    }
   ],
   "source": [
    "INT_VALUES = [\"free sulfur dioxide\", \"total sulfur dioxide\", \"quality\"]\n",
    "FLOAT_VALUES = [\"fixed acidity\", \"volatile acidity\", \"citric acid\", \"residual sugar\", \"chlorides\", \"density\", \"pH\", \"sulphates\", \"alcohol\"]\n",
    "\n",
    "def read_data(file_name: str) -> tuple[npt.NDArray[npt.NDArray[np.float32]], npt.NDArray[np.int32]]:\n",
    "    data = []\n",
    "    labels = []\n",
    "\n",
    "    with open(TRAIN_DATA, \"r\", encoding=\"utf-8\") as f:\n",
    "        csv_reader = csv.reader(f, delimiter=\";\")\n",
    "        next(csv_reader)\n",
    "        for line in csv_reader:\n",
    "            labels.append(np.int32(line[-1]))\n",
    "            data.append(np.asarray(line[:-1], dtype=np.float32))\n",
    "    return np.asarray(data), np.asarray(labels)"
   ],
   "metadata": {
    "collapsed": false
   }
  },
  {
   "cell_type": "code",
   "execution_count": 17,
   "outputs": [],
   "source": [
    "train_data, train_labels = read_data(TRAIN_DATA)\n",
    "val_data, val_labels = read_data(VAL_DATA)"
   ],
   "metadata": {
    "collapsed": false
   }
  },
  {
   "cell_type": "code",
   "execution_count": 20,
   "outputs": [
    {
     "ename": "CatBoostError",
     "evalue": "catboost/libs/train_lib/trainer_env.cpp:9: Environment for task type [GPU] not found",
     "output_type": "error",
     "traceback": [
      "\u001B[0;31m---------------------------------------------------------------------------\u001B[0m",
      "\u001B[0;31mCatBoostError\u001B[0m                             Traceback (most recent call last)",
      "\u001B[0;32m/var/folders/5d/hbsg18vj5jn42qyyttyrr8lh0000gp/T/ipykernel_3320/2777480276.py\u001B[0m in \u001B[0;36m<module>\u001B[0;34m\u001B[0m\n\u001B[1;32m      6\u001B[0m     \u001B[0mrandom_seed\u001B[0m\u001B[0;34m=\u001B[0m\u001B[0mSEED\u001B[0m\u001B[0;34m\u001B[0m\u001B[0;34m\u001B[0m\u001B[0m\n\u001B[1;32m      7\u001B[0m )\n\u001B[0;32m----> 8\u001B[0;31m \u001B[0mmodel\u001B[0m\u001B[0;34m.\u001B[0m\u001B[0mfit\u001B[0m\u001B[0;34m(\u001B[0m\u001B[0mtrain_data\u001B[0m\u001B[0;34m,\u001B[0m \u001B[0mtrain_labels\u001B[0m\u001B[0;34m)\u001B[0m\u001B[0;34m\u001B[0m\u001B[0;34m\u001B[0m\u001B[0m\n\u001B[0m",
      "\u001B[0;32m/Library/Frameworks/Python.framework/Versions/3.9/lib/python3.9/site-packages/catboost/core.py\u001B[0m in \u001B[0;36mfit\u001B[0;34m(self, X, y, cat_features, text_features, embedding_features, sample_weight, baseline, use_best_model, eval_set, verbose, logging_level, plot, plot_file, column_description, verbose_eval, metric_period, silent, early_stopping_rounds, save_snapshot, snapshot_file, snapshot_interval, init_model, callbacks, log_cout, log_cerr)\u001B[0m\n\u001B[1;32m   5126\u001B[0m             \u001B[0mCatBoostClassifier\u001B[0m\u001B[0;34m.\u001B[0m\u001B[0m_check_is_compatible_loss\u001B[0m\u001B[0;34m(\u001B[0m\u001B[0mparams\u001B[0m\u001B[0;34m[\u001B[0m\u001B[0;34m'loss_function'\u001B[0m\u001B[0;34m]\u001B[0m\u001B[0;34m)\u001B[0m\u001B[0;34m\u001B[0m\u001B[0;34m\u001B[0m\u001B[0m\n\u001B[1;32m   5127\u001B[0m \u001B[0;34m\u001B[0m\u001B[0m\n\u001B[0;32m-> 5128\u001B[0;31m         self._fit(X, y, cat_features, text_features, embedding_features, None, sample_weight, None, None, None, None, baseline, use_best_model,\n\u001B[0m\u001B[1;32m   5129\u001B[0m                   \u001B[0meval_set\u001B[0m\u001B[0;34m,\u001B[0m \u001B[0mverbose\u001B[0m\u001B[0;34m,\u001B[0m \u001B[0mlogging_level\u001B[0m\u001B[0;34m,\u001B[0m \u001B[0mplot\u001B[0m\u001B[0;34m,\u001B[0m \u001B[0mplot_file\u001B[0m\u001B[0;34m,\u001B[0m \u001B[0mcolumn_description\u001B[0m\u001B[0;34m,\u001B[0m \u001B[0mverbose_eval\u001B[0m\u001B[0;34m,\u001B[0m \u001B[0mmetric_period\u001B[0m\u001B[0;34m,\u001B[0m\u001B[0;34m\u001B[0m\u001B[0;34m\u001B[0m\u001B[0m\n\u001B[1;32m   5130\u001B[0m                   silent, early_stopping_rounds, save_snapshot, snapshot_file, snapshot_interval, init_model, callbacks, log_cout, log_cerr)\n",
      "\u001B[0;32m/Library/Frameworks/Python.framework/Versions/3.9/lib/python3.9/site-packages/catboost/core.py\u001B[0m in \u001B[0;36m_fit\u001B[0;34m(self, X, y, cat_features, text_features, embedding_features, pairs, sample_weight, group_id, group_weight, subgroup_id, pairs_weight, baseline, use_best_model, eval_set, verbose, logging_level, plot, plot_file, column_description, verbose_eval, metric_period, silent, early_stopping_rounds, save_snapshot, snapshot_file, snapshot_interval, init_model, callbacks, log_cout, log_cerr)\u001B[0m\n\u001B[1;32m   2353\u001B[0m         \u001B[0;32mwith\u001B[0m \u001B[0mlog_fixup\u001B[0m\u001B[0;34m(\u001B[0m\u001B[0mlog_cout\u001B[0m\u001B[0;34m,\u001B[0m \u001B[0mlog_cerr\u001B[0m\u001B[0;34m)\u001B[0m\u001B[0;34m,\u001B[0m\u001B[0;31m \u001B[0m\u001B[0;31m\\\u001B[0m\u001B[0;34m\u001B[0m\u001B[0;34m\u001B[0m\u001B[0m\n\u001B[1;32m   2354\u001B[0m             \u001B[0mplot_wrapper\u001B[0m\u001B[0;34m(\u001B[0m\u001B[0mplot\u001B[0m\u001B[0;34m,\u001B[0m \u001B[0mplot_file\u001B[0m\u001B[0;34m,\u001B[0m \u001B[0;34m'Training plots'\u001B[0m\u001B[0;34m,\u001B[0m \u001B[0;34m[\u001B[0m\u001B[0m_get_train_dir\u001B[0m\u001B[0;34m(\u001B[0m\u001B[0mself\u001B[0m\u001B[0;34m.\u001B[0m\u001B[0mget_params\u001B[0m\u001B[0;34m(\u001B[0m\u001B[0;34m)\u001B[0m\u001B[0;34m)\u001B[0m\u001B[0;34m]\u001B[0m\u001B[0;34m)\u001B[0m\u001B[0;34m:\u001B[0m\u001B[0;34m\u001B[0m\u001B[0;34m\u001B[0m\u001B[0m\n\u001B[0;32m-> 2355\u001B[0;31m             self._train(\n\u001B[0m\u001B[1;32m   2356\u001B[0m                 \u001B[0mtrain_pool\u001B[0m\u001B[0;34m,\u001B[0m\u001B[0;34m\u001B[0m\u001B[0;34m\u001B[0m\u001B[0m\n\u001B[1;32m   2357\u001B[0m                 \u001B[0mtrain_params\u001B[0m\u001B[0;34m[\u001B[0m\u001B[0;34m\"eval_sets\"\u001B[0m\u001B[0;34m]\u001B[0m\u001B[0;34m,\u001B[0m\u001B[0;34m\u001B[0m\u001B[0;34m\u001B[0m\u001B[0m\n",
      "\u001B[0;32m/Library/Frameworks/Python.framework/Versions/3.9/lib/python3.9/site-packages/catboost/core.py\u001B[0m in \u001B[0;36m_train\u001B[0;34m(self, train_pool, test_pool, params, allow_clear_pool, init_model)\u001B[0m\n\u001B[1;32m   1757\u001B[0m \u001B[0;34m\u001B[0m\u001B[0m\n\u001B[1;32m   1758\u001B[0m     \u001B[0;32mdef\u001B[0m \u001B[0m_train\u001B[0m\u001B[0;34m(\u001B[0m\u001B[0mself\u001B[0m\u001B[0;34m,\u001B[0m \u001B[0mtrain_pool\u001B[0m\u001B[0;34m,\u001B[0m \u001B[0mtest_pool\u001B[0m\u001B[0;34m,\u001B[0m \u001B[0mparams\u001B[0m\u001B[0;34m,\u001B[0m \u001B[0mallow_clear_pool\u001B[0m\u001B[0;34m,\u001B[0m \u001B[0minit_model\u001B[0m\u001B[0;34m)\u001B[0m\u001B[0;34m:\u001B[0m\u001B[0;34m\u001B[0m\u001B[0;34m\u001B[0m\u001B[0m\n\u001B[0;32m-> 1759\u001B[0;31m         \u001B[0mself\u001B[0m\u001B[0;34m.\u001B[0m\u001B[0m_object\u001B[0m\u001B[0;34m.\u001B[0m\u001B[0m_train\u001B[0m\u001B[0;34m(\u001B[0m\u001B[0mtrain_pool\u001B[0m\u001B[0;34m,\u001B[0m \u001B[0mtest_pool\u001B[0m\u001B[0;34m,\u001B[0m \u001B[0mparams\u001B[0m\u001B[0;34m,\u001B[0m \u001B[0mallow_clear_pool\u001B[0m\u001B[0;34m,\u001B[0m \u001B[0minit_model\u001B[0m\u001B[0;34m.\u001B[0m\u001B[0m_object\u001B[0m \u001B[0;32mif\u001B[0m \u001B[0minit_model\u001B[0m \u001B[0;32melse\u001B[0m \u001B[0;32mNone\u001B[0m\u001B[0;34m)\u001B[0m\u001B[0;34m\u001B[0m\u001B[0;34m\u001B[0m\u001B[0m\n\u001B[0m\u001B[1;32m   1760\u001B[0m         \u001B[0mself\u001B[0m\u001B[0;34m.\u001B[0m\u001B[0m_set_trained_model_attributes\u001B[0m\u001B[0;34m(\u001B[0m\u001B[0;34m)\u001B[0m\u001B[0;34m\u001B[0m\u001B[0;34m\u001B[0m\u001B[0m\n\u001B[1;32m   1761\u001B[0m \u001B[0;34m\u001B[0m\u001B[0m\n",
      "\u001B[0;32m_catboost.pyx\u001B[0m in \u001B[0;36m_catboost._CatBoost._train\u001B[0;34m()\u001B[0m\n",
      "\u001B[0;32m_catboost.pyx\u001B[0m in \u001B[0;36m_catboost._CatBoost._train\u001B[0;34m()\u001B[0m\n",
      "\u001B[0;31mCatBoostError\u001B[0m: catboost/libs/train_lib/trainer_env.cpp:9: Environment for task type [GPU] not found"
     ]
    }
   ],
   "source": [
    "model = catboost.CatBoostClassifier(\n",
    "    iterations=100,\n",
    "    learning_rate=0.1,\n",
    "    loss_function=\"Logloss\",\n",
    "    task_type=\"GPU\",\n",
    "    random_seed=SEED\n",
    ")\n",
    "model.fit(train_data, train_labels)"
   ],
   "metadata": {
    "collapsed": false
   }
  },
  {
   "cell_type": "code",
   "execution_count": null,
   "outputs": [],
   "source": [],
   "metadata": {
    "collapsed": false
   }
  }
 ],
 "metadata": {
  "kernelspec": {
   "display_name": "Python 3",
   "language": "python",
   "name": "python3"
  },
  "language_info": {
   "codemirror_mode": {
    "name": "ipython",
    "version": 2
   },
   "file_extension": ".py",
   "mimetype": "text/x-python",
   "name": "python",
   "nbconvert_exporter": "python",
   "pygments_lexer": "ipython2",
   "version": "2.7.6"
  }
 },
 "nbformat": 4,
 "nbformat_minor": 0
}
